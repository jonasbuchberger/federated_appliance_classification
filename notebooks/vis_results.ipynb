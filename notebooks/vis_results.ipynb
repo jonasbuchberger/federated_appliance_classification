{
 "cells": [
  {
   "cell_type": "code",
   "execution_count": 1,
   "metadata": {
    "collapsed": true
   },
   "outputs": [],
   "source": [
    "import os\n",
    "import pandas as pd\n",
    "import numpy as np\n",
    "import matplotlib.pyplot as plt\n",
    "import seaborn as sns\n",
    "import collections\n",
    "from matplotlib.ticker import MaxNLocator\n"
   ]
  },
  {
   "cell_type": "code",
   "execution_count": 2,
   "outputs": [
    {
     "ename": "TypeError",
     "evalue": "join() argument must be str, bytes, or os.PathLike object, not 'NoneType'",
     "output_type": "error",
     "traceback": [
      "\u001B[1;31m---------------------------------------------------------------------------\u001B[0m",
      "\u001B[1;31mTypeError\u001B[0m                                 Traceback (most recent call last)",
      "\u001B[1;32m<ipython-input-2-3f40ae68731e>\u001B[0m in \u001B[0;36m<module>\u001B[1;34m\u001B[0m\n\u001B[0;32m     37\u001B[0m     \u001B[0mplt\u001B[0m\u001B[1;33m.\u001B[0m\u001B[0mshow\u001B[0m\u001B[1;33m(\u001B[0m\u001B[1;33m)\u001B[0m\u001B[1;33m\u001B[0m\u001B[1;33m\u001B[0m\u001B[0m\n\u001B[0;32m     38\u001B[0m \u001B[1;33m\u001B[0m\u001B[0m\n\u001B[1;32m---> 39\u001B[1;33m \u001B[0mvis_k_fold\u001B[0m\u001B[1;33m(\u001B[0m\u001B[1;33m)\u001B[0m\u001B[1;33m\u001B[0m\u001B[1;33m\u001B[0m\u001B[0m\n\u001B[0m\u001B[0;32m     40\u001B[0m \u001B[1;33m\u001B[0m\u001B[0m\n",
      "\u001B[1;32m<ipython-input-2-3f40ae68731e>\u001B[0m in \u001B[0;36mvis_k_fold\u001B[1;34m()\u001B[0m\n\u001B[0;32m      6\u001B[0m         \u001B[1;32mif\u001B[0m \u001B[1;34m\"K_Fold\"\u001B[0m \u001B[1;32min\u001B[0m \u001B[0mrun\u001B[0m\u001B[1;33m:\u001B[0m\u001B[1;33m\u001B[0m\u001B[1;33m\u001B[0m\u001B[0m\n\u001B[0;32m      7\u001B[0m             \u001B[0mk_fold\u001B[0m \u001B[1;33m=\u001B[0m \u001B[0mrun\u001B[0m\u001B[1;33m\u001B[0m\u001B[1;33m\u001B[0m\u001B[0m\n\u001B[1;32m----> 8\u001B[1;33m     \u001B[0mk_fold_runs\u001B[0m \u001B[1;33m=\u001B[0m \u001B[0mos\u001B[0m\u001B[1;33m.\u001B[0m\u001B[0mlistdir\u001B[0m\u001B[1;33m(\u001B[0m\u001B[0mos\u001B[0m\u001B[1;33m.\u001B[0m\u001B[0mpath\u001B[0m\u001B[1;33m.\u001B[0m\u001B[0mjoin\u001B[0m\u001B[1;33m(\u001B[0m\u001B[1;34m\"../models\"\u001B[0m\u001B[1;33m,\u001B[0m \u001B[0mk_fold\u001B[0m\u001B[1;33m)\u001B[0m\u001B[1;33m)\u001B[0m\u001B[1;33m\u001B[0m\u001B[1;33m\u001B[0m\u001B[0m\n\u001B[0m\u001B[0;32m      9\u001B[0m \u001B[1;33m\u001B[0m\u001B[0m\n\u001B[0;32m     10\u001B[0m     \u001B[0mmean_df\u001B[0m \u001B[1;33m=\u001B[0m \u001B[1;32mNone\u001B[0m\u001B[1;33m\u001B[0m\u001B[1;33m\u001B[0m\u001B[0m\n",
      "\u001B[1;32m~\\miniconda3\\envs\\py3.8-gpu\\lib\\ntpath.py\u001B[0m in \u001B[0;36mjoin\u001B[1;34m(path, *paths)\u001B[0m\n\u001B[0;32m    115\u001B[0m         \u001B[1;32mreturn\u001B[0m \u001B[0mresult_drive\u001B[0m \u001B[1;33m+\u001B[0m \u001B[0mresult_path\u001B[0m\u001B[1;33m\u001B[0m\u001B[1;33m\u001B[0m\u001B[0m\n\u001B[0;32m    116\u001B[0m     \u001B[1;32mexcept\u001B[0m \u001B[1;33m(\u001B[0m\u001B[0mTypeError\u001B[0m\u001B[1;33m,\u001B[0m \u001B[0mAttributeError\u001B[0m\u001B[1;33m,\u001B[0m \u001B[0mBytesWarning\u001B[0m\u001B[1;33m)\u001B[0m\u001B[1;33m:\u001B[0m\u001B[1;33m\u001B[0m\u001B[1;33m\u001B[0m\u001B[0m\n\u001B[1;32m--> 117\u001B[1;33m         \u001B[0mgenericpath\u001B[0m\u001B[1;33m.\u001B[0m\u001B[0m_check_arg_types\u001B[0m\u001B[1;33m(\u001B[0m\u001B[1;34m'join'\u001B[0m\u001B[1;33m,\u001B[0m \u001B[0mpath\u001B[0m\u001B[1;33m,\u001B[0m \u001B[1;33m*\u001B[0m\u001B[0mpaths\u001B[0m\u001B[1;33m)\u001B[0m\u001B[1;33m\u001B[0m\u001B[1;33m\u001B[0m\u001B[0m\n\u001B[0m\u001B[0;32m    118\u001B[0m         \u001B[1;32mraise\u001B[0m\u001B[1;33m\u001B[0m\u001B[1;33m\u001B[0m\u001B[0m\n\u001B[0;32m    119\u001B[0m \u001B[1;33m\u001B[0m\u001B[0m\n",
      "\u001B[1;32m~\\miniconda3\\envs\\py3.8-gpu\\lib\\genericpath.py\u001B[0m in \u001B[0;36m_check_arg_types\u001B[1;34m(funcname, *args)\u001B[0m\n\u001B[0;32m    150\u001B[0m             \u001B[0mhasbytes\u001B[0m \u001B[1;33m=\u001B[0m \u001B[1;32mTrue\u001B[0m\u001B[1;33m\u001B[0m\u001B[1;33m\u001B[0m\u001B[0m\n\u001B[0;32m    151\u001B[0m         \u001B[1;32melse\u001B[0m\u001B[1;33m:\u001B[0m\u001B[1;33m\u001B[0m\u001B[1;33m\u001B[0m\u001B[0m\n\u001B[1;32m--> 152\u001B[1;33m             raise TypeError(f'{funcname}() argument must be str, bytes, or '\n\u001B[0m\u001B[0;32m    153\u001B[0m                             f'os.PathLike object, not {s.__class__.__name__!r}') from None\n\u001B[0;32m    154\u001B[0m     \u001B[1;32mif\u001B[0m \u001B[0mhasstr\u001B[0m \u001B[1;32mand\u001B[0m \u001B[0mhasbytes\u001B[0m\u001B[1;33m:\u001B[0m\u001B[1;33m\u001B[0m\u001B[1;33m\u001B[0m\u001B[0m\n",
      "\u001B[1;31mTypeError\u001B[0m: join() argument must be str, bytes, or os.PathLike object, not 'NoneType'"
     ]
    }
   ],
   "source": [
    "def vis_k_fold():\n",
    "\n",
    "    runs = os.listdir(\"../models\")\n",
    "    k_fold = None\n",
    "    for run in runs[:]:\n",
    "        if \"K_Fold\" in run:\n",
    "            k_fold = run\n",
    "    k_fold_runs = os.listdir(os.path.join(\"../models\", k_fold))\n",
    "\n",
    "    mean_df = None\n",
    "    concat_df = None\n",
    "    for i, fold in enumerate(sorted(k_fold_runs)):\n",
    "\n",
    "        df = pd.read_csv(os.path.join(\"../models\", k_fold, fold, 'results.csv'), index_col=0)\n",
    "        if mean_df is None:\n",
    "            mean_df = df.loc['Mean'].rename(\"Fold 0\")\n",
    "            concat_df = df\n",
    "        else:\n",
    "            mean_df = pd.concat((mean_df, df.loc['Mean'].rename(f\"Fold {i}\")), axis=1)\n",
    "            concat_df = pd.concat((concat_df, df), axis=0)\n",
    "\n",
    "    with open(\"tables/k_fold_table.tex\", 'w') as fd:\n",
    "        mean_df.transpose().to_latex(fd)\n",
    "\n",
    "    result_dict = {}\n",
    "    for appliance in set(concat_df.index):\n",
    "        if 'Mean' not in appliance:\n",
    "            result_dict[appliance] = concat_df.loc[appliance]['F1'].values\n",
    "\n",
    "    sns.set(rc={'figure.figsize':(10,5)})\n",
    "    fig, ax = plt.subplots()\n",
    "    ax.boxplot(result_dict.values())\n",
    "    ax.set_xticklabels(result_dict.keys(), rotation = 45)\n",
    "    ax.set_ylabel('F1 Score')\n",
    "    plt.tight_layout()\n",
    "    plt.savefig('figures/f1_k_fold_box.svg', dpi = 300)\n",
    "    plt.show()\n",
    "\n",
    "vis_k_fold()"
   ],
   "metadata": {
    "collapsed": false,
    "pycharm": {
     "name": "#%%\n"
    }
   }
  },
  {
   "cell_type": "code",
   "execution_count": null,
   "outputs": [],
   "source": [
    "def feature_chaining(model):\n",
    "    runs = os.listdir(\"../models/single_models\")\n",
    "    run_dict = {}\n",
    "    for run in runs[:]:\n",
    "        if model in run:\n",
    "            exp_runs = os.listdir(os.path.join(\"../models/single_models\", run))\n",
    "            features = run.split('[')[1].split(']')[0].replace('_', '\\n')[14:]\n",
    "            f1 = 0\n",
    "            for exp_run in exp_runs:\n",
    "                try:\n",
    "                    df = pd.read_csv(os.path.join(\"../models/single_models\", run, exp_run, 'results.csv'), index_col=0)\n",
    "                    run_f1 = df['F1'].loc['Mean']\n",
    "                except FileNotFoundError:\n",
    "                    run_f1 = 0\n",
    "\n",
    "                if f1 < run_f1:\n",
    "                    f1 = run_f1\n",
    "\n",
    "            run_dict[f1] = features\n",
    "\n",
    "    run_dict = collections.OrderedDict(sorted(run_dict.items()))\n",
    "\n",
    "    fig, axes = plt.subplots(2, 1, figsize=(10, 8))\n",
    "    #plt.title('Number of events per class')\n",
    "    idx = int(len(run_dict.values()) / 2)\n",
    "    if len(run_dict.values()) % 2 == 1:\n",
    "        idx +=1\n",
    "\n",
    "    for i in range(0,2):\n",
    "        df = pd.DataFrame({\n",
    "            'Features': list(run_dict.values())[idx * i:idx * (i+1)],\n",
    "            'F1': np.round_(np.asarray(list(run_dict.keys()), dtype=float), 2)[idx * i:idx * (i+1)],\n",
    "            })\n",
    "\n",
    "        sns.set(rc={'figure.figsize':(15,5)})\n",
    "        ax = sns.barplot(ax=axes[i], x='Features', y='F1', data=df, palette=\"Blues_d\")\n",
    "\n",
    "        for index, row in df.iterrows():\n",
    "            ax.text(row.name, row.values[1], row.values[1], color='black', ha=\"center\")\n",
    "\n",
    "        for item in ax.get_xticklabels():\n",
    "            item.set_rotation(90)\n",
    "\n",
    "    plt.tight_layout()\n",
    "    plt.savefig(f'figures/{model}_feature_chaining.svg', dpi=300, bbox_extra_artists=(ax,), bbox_inches='tight')\n",
    "    plt.show()\n",
    "\n",
    "feature_chaining('LSTM')"
   ],
   "metadata": {
    "collapsed": false,
    "pycharm": {
     "name": "#%%\n"
    }
   }
  },
  {
   "cell_type": "code",
   "execution_count": 13,
   "outputs": [
    {
     "name": "stdout",
     "output_type": "stream",
     "text": [
      "                       F1  Accuracy        F1  Accuracy        F1  Accuracy  \\\n",
      "Battery Charger  1.000000  1.000000  0.903226  1.000000  0.913043  1.000000   \n",
      "Daylight         0.000000  0.000000  0.000000  0.000000  0.000000  0.000000   \n",
      "Dev Board        0.571429  0.823529  0.191781  0.823529  0.560000  0.823529   \n",
      "Fan              1.000000  1.000000  0.000000  0.000000  1.000000  1.000000   \n",
      "Kettle           1.000000  1.000000  0.800000  1.000000  0.000000  0.000000   \n",
      "Laptop           0.767184  0.686508  0.574163  0.476190  0.749465  0.694444   \n",
      "Monitor          0.962492  0.953401  0.823282  0.739295  0.971098  0.952141   \n",
      "PC               0.870370  1.000000  0.863636  0.808511  0.752137  0.936170   \n",
      "Printer          0.898551  0.968750  0.571429  0.500000  0.888889  0.937500   \n",
      "Projector        1.000000  1.000000  0.129032  0.857143  1.000000  1.000000   \n",
      "Screen Motor     0.952381  1.000000  0.384615  1.000000  1.000000  1.000000   \n",
      "USB Charger      0.789474  1.000000  0.383838  0.316667  0.857143  1.000000   \n",
      "Mean             0.817657  0.869349  0.468750  0.626778  0.724315  0.778649   \n",
      "\n",
      "                       F1  Accuracy  \n",
      "Battery Charger  0.792453  1.000000  \n",
      "Daylight         0.000000  0.000000  \n",
      "Dev Board        0.717949  0.823529  \n",
      "Fan              1.000000  1.000000  \n",
      "Kettle           1.000000  1.000000  \n",
      "Laptop           0.805726  0.781746  \n",
      "Monitor          0.967160  0.945844  \n",
      "PC               0.834951  0.914894  \n",
      "Printer          0.918519  0.968750  \n",
      "Projector        1.000000  1.000000  \n",
      "Screen Motor     1.000000  1.000000  \n",
      "USB Charger      0.824427  0.900000  \n",
      "Mean             0.821765  0.861230  \n"
     ]
    }
   ],
   "source": [
    "def show_federated(runs):\n",
    "    labels = ['CNN', 'LSTM', 'RESNET', 'DENSENET']\n",
    "    df = None\n",
    "    for i, run in enumerate(runs):\n",
    "        tmp = pd.read_csv(os.path.join('../models/single_models', run, 'results.csv'), index_col=0)\n",
    "        df = pd.concat([df, tmp[['F1', 'Accuracy']]], axis=1)\n",
    "\n",
    "    with open(\"tables/single_app_table.tex\", 'w') as fd:\n",
    "        df.round(2).to_latex(fd)\n",
    "runs=[\n",
    "    \"CNN1D_SGD_CrossEntropyLoss_CLASS_12_[RandomAugment_MFCC_DCS]_Syn/lr-0.055_wd-0.0_nl-4_ss-19\",\n",
    "    \"LSTM_SGD_CrossEntropyLoss_CLASS_12_[RandomAugment_ACPower_MFCC]_Syn/lr-0.045_wd-0.001_nl-1_ss-23\",\n",
    "    \"RESNET_SGD_CrossEntropyLoss_CLASS_12_[RandomAugment_MFCC_COT]_Syn/lr-0.052_wd-0.001_nl-4_ss-20\",\n",
    "    \"DENSE_SGD_CrossEntropyLoss_CLASS_12_[RandomAugment_MFCC_DCS_AOT]_Syn/lr-0.075_wd-0.001_nl-3_ss-12\"\n",
    "]\n",
    "\n",
    "show_federated(runs)"
   ],
   "metadata": {
    "collapsed": false,
    "pycharm": {
     "name": "#%%\n"
    }
   }
  },
  {
   "cell_type": "code",
   "execution_count": 15,
   "outputs": [],
   "source": [
    "def show_federated(runs):\n",
    "    labels = ['CNN', 'LSTM', 'RESNET', 'DENSENET']\n",
    "    df = None\n",
    "    for i, run in enumerate(runs):\n",
    "        tmp = pd.read_csv(os.path.join('../models', run, 'results.csv'), index_col=0)\n",
    "        df = pd.concat([df, tmp.loc['Mean'].rename(labels[i])], axis=1)\n",
    "\n",
    "    with open(\"tables/iid_table.tex\", 'w') as fd:\n",
    "        df.transpose().round(2).to_latex(fd)\n",
    "\n",
    "runs=[\n",
    "    \"Federated_16_CNN1D_SGD_CrossEntropyLoss_CLASS_12_[RandomAugment_MFCC_DCS]_Syn/lr-0.055_wd-0.0_nl-4_ss-19_te-100_le-1_iid\",\n",
    "    \"Federated_16_LSTM_SGD_CrossEntropyLoss_CLASS_12_[RandomAugment_ACPower_MFCC]_Syn/lr-0.045_wd-0.001_nl-1_ss-23_te-100_le-1_iid\",\n",
    "    \"Federated_16_RESNET_SGD_CrossEntropyLoss_CLASS_12_[RandomAugment_MFCC_COT]_Syn/lr-0.052_wd-0.001_nl-4_ss-20_te-100_le-1_iid\",\n",
    "    \"Federated_16_DENSE_SGD_CrossEntropyLoss_CLASS_12_[RandomAugment_MFCC_DCS_AOT]_Syn/lr-0.075_wd-0.001_nl-3_ss-12_te-100_le-1_iid\"\n",
    "]\n",
    "\n",
    "show_federated(runs)"
   ],
   "metadata": {
    "collapsed": false,
    "pycharm": {
     "name": "#%%\n"
    }
   }
  },
  {
   "cell_type": "code",
   "execution_count": null,
   "outputs": [],
   "source": [
    "def show_loss(folder):\n",
    "    runs = sorted(os.listdir(os.path.join('loss', folder)))\n",
    "\n",
    "    sns.set(rc={'figure.figsize':(15,5)})\n",
    "    fig, axes = plt.subplots(1, 2, figsize=(10, 4))\n",
    "    for i, run in enumerate(runs):\n",
    "        df = pd.read_csv(os.path.join('loss', folder, run))\n",
    "        if 'Train' in run:\n",
    "            axes[0].plot(df['Value'])\n",
    "        else:\n",
    "            axes[1].plot(df['Value'])\n",
    "\n",
    "    axes[0].set_ylabel('Train Loss')\n",
    "    axes[1].set_ylabel('Validation Loss')\n",
    "    axes[0].xaxis.set_major_locator(MaxNLocator(integer=True))\n",
    "    axes[1].xaxis.set_major_locator(MaxNLocator(integer=True))\n",
    "    fig.text(0.5, 0, 'Epochs', ha='center', va='center')\n",
    "    axes[0].legend(['CNN', 'DenseNet', 'LSTM', 'ResNet'])\n",
    "    axes[1].legend(['CNN', 'DenseNet', 'LSTM', 'ResNet'])\n",
    "    plt.tight_layout()\n",
    "    plt.savefig(f'figures/single_loss.svg', dpi=300)\n",
    "    plt.show()\n",
    "\n",
    "show_loss('single_models')"
   ],
   "metadata": {
    "collapsed": false,
    "pycharm": {
     "name": "#%%\n"
    }
   }
  },
  {
   "cell_type": "code",
   "execution_count": null,
   "outputs": [],
   "source": [
    "def show_federated_loss(folder):\n",
    "    runs = sorted(os.listdir(os.path.join('loss', folder)))\n",
    "\n",
    "    sns.set(rc={'figure.figsize':(15,5)})\n",
    "    fig, axes = plt.subplots(1, 1, figsize=(10, 4))\n",
    "    for i, run in enumerate(runs):\n",
    "        df = pd.read_csv(os.path.join('loss', folder, run))\n",
    "        axes.plot(df['Value'])\n",
    "\n",
    "    axes.set_ylabel('Validation Loss')\n",
    "    axes.set_xlabel('Aggregation Steps')\n",
    "    plt.tight_layout()\n",
    "    plt.legend(['CNN', 'DenseNet', 'LSTM', 'ResNet'])\n",
    "    plt.savefig(f'figures/loss.svg', dpi=300)\n",
    "    plt.show()\n",
    "\n",
    "show_federated_loss('iid_models')"
   ],
   "metadata": {
    "collapsed": false,
    "pycharm": {
     "name": "#%%\n"
    }
   }
  }
 ],
 "metadata": {
  "kernelspec": {
   "display_name": "Python 3",
   "language": "python",
   "name": "python3"
  },
  "language_info": {
   "codemirror_mode": {
    "name": "ipython",
    "version": 2
   },
   "file_extension": ".py",
   "mimetype": "text/x-python",
   "name": "python",
   "nbconvert_exporter": "python",
   "pygments_lexer": "ipython2",
   "version": "2.7.6"
  }
 },
 "nbformat": 4,
 "nbformat_minor": 0
}